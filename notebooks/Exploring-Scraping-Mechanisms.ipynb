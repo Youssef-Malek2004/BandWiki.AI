{
 "cells": [
  {
   "cell_type": "code",
   "id": "initial_id",
   "metadata": {
    "collapsed": true,
    "ExecuteTime": {
     "end_time": "2025-04-28T19:40:09.151687Z",
     "start_time": "2025-04-28T19:40:09.145143Z"
    }
   },
   "source": [
    "import os\n",
    "from dotenv import load_dotenv\n",
    "from langchain_community.tools.tavily_search import TavilySearchResults\n",
    "from transformers.models.layoutlmv2.tokenization_layoutlmv2 import table\n",
    "\n",
    "load_dotenv()"
   ],
   "outputs": [
    {
     "data": {
      "text/plain": [
       "True"
      ]
     },
     "execution_count": 6,
     "metadata": {},
     "output_type": "execute_result"
    }
   ],
   "execution_count": 6
  },
  {
   "metadata": {
    "ExecuteTime": {
     "end_time": "2025-04-28T19:40:09.712159Z",
     "start_time": "2025-04-28T19:40:09.710295Z"
    }
   },
   "cell_type": "code",
   "source": "tavily = TavilySearchResults()",
   "id": "677796f94d1738e8",
   "outputs": [],
   "execution_count": 7
  },
  {
   "metadata": {
    "ExecuteTime": {
     "end_time": "2025-04-28T19:44:31.163733Z",
     "start_time": "2025-04-28T19:44:26.880984Z"
    }
   },
   "cell_type": "code",
   "source": "tavily.invoke(\"What was the best song that Queen ever made?\")",
   "id": "ea253703c03891c3",
   "outputs": [
    {
     "data": {
      "text/plain": [
       "[{'title': 'What is the greatest Queen song ever made? Defend your answer.',\n",
       "  'url': 'https://www.reddit.com/r/queen/comments/17vsckf/what_is_the_greatest_queen_song_ever_made_defend/',\n",
       "  'content': 'I Want It All - the heaviest song ever made and the best song Queen ever made for The Miracle album. I love the album version, Single',\n",
       "  'score': 0.8512743},\n",
       " {'title': 'What do you think is the best song by Queen? - Quora',\n",
       "  'url': 'https://www.quora.com/What-do-you-think-is-the-best-song-by-Queen',\n",
       "  'content': 'They had many hits, but I think their best song is Bohemian Rhapsody. The song embraces melody, opera and classic rock. It is the signature song',\n",
       "  'score': 0.8325776},\n",
       " {'title': 'Best Queen songs',\n",
       "  'url': 'https://queenchat.boards.net/thread/1264/best-queen-songs',\n",
       "  'content': \"The greatest Queen song is Bohemian Rhapsody, it's the song that brought fame and everything that goes with it (no pun intended). Technically speaking Somebody\",\n",
       "  'score': 0.83093774},\n",
       " {'title': 'If you omitt all the hits, what are the best Queen songs? - Quora',\n",
       "  'url': 'https://www.quora.com/If-you-omitt-all-the-hits-what-are-the-best-Queen-songs',\n",
       "  'content': \"Bohemian Rhapsody- Obiviously, their greatest song ever made · Hammer to Fall- I don't think many people would choose this song, but I love it.\",\n",
       "  'score': 0.80844593},\n",
       " {'title': 'Queen: Their 30 Best Songs Ranked - 94.7 WCSX',\n",
       "  'url': 'https://wcsx.com/listicle/queen-best-songs-2/',\n",
       "  'content': 'In honor of the band\\'s self-titled debut album turning 50 today (it was released July 13 in the U.K.\\xa0and a few weeks later in America), here are Queen\\'s best songs ranked. Get \"Ready Freddie\" for the debating to begin!\\n\\n30. \"Body Language\" - \\'Hot Space\\' (1982) [...] Perhaps a controversial start to this list, but \"Body Language\" is an incredibly fun, dance song. Also, it might just be the horniest song in the entire Queen catalog, and that should count for something! (Semi-related: \"Body Language\" was used in a hilarious tour announcement video from the Foo Fighters in 2011, and it remains one of the funniest things they\\'ve ever done.)\\n\\n29. \"The March of the Black Queen\" - \\'Queen II\\' (1974) [...] 1. \"Bohemian Rhapsody\" - \\'A Night at the Opera\\' (1975)',\n",
       "  'score': 0.798077}]"
      ]
     },
     "execution_count": 9,
     "metadata": {},
     "output_type": "execute_result"
    }
   ],
   "execution_count": 9
  },
  {
   "metadata": {
    "ExecuteTime": {
     "end_time": "2025-04-28T19:38:34.774854Z",
     "start_time": "2025-04-28T19:38:33.550856Z"
    }
   },
   "cell_type": "code",
   "source": [
    "from duckduckgo_search import DDGS\n",
    "\n",
    "def search_band(band_name):\n",
    "    with DDGS() as ddgs:\n",
    "        results = ddgs.text(band_name, max_results=5)\n",
    "        return [r['href'] for r in results]\n",
    "\n",
    "# Example\n",
    "print(search_band(\"Queen Band\"))\n"
   ],
   "id": "efafe4d18ca03c32",
   "outputs": [
    {
     "name": "stdout",
     "output_type": "stream",
     "text": [
      "['https://en.wikipedia.org/wiki/Queen_(band)', 'https://queenonline.com/', 'https://www.britannica.com/topic/Queen-British-rock-group', 'https://simple.wikipedia.org/wiki/Queen_(band)', 'https://www.queenonline.com/queen']\n"
     ]
    }
   ],
   "execution_count": 5
  },
  {
   "metadata": {},
   "cell_type": "code",
   "outputs": [],
   "execution_count": null,
   "source": "",
   "id": "933545e6ed0c71bb"
  }
 ],
 "metadata": {
  "kernelspec": {
   "display_name": "Python 3",
   "language": "python",
   "name": "python3"
  },
  "language_info": {
   "codemirror_mode": {
    "name": "ipython",
    "version": 2
   },
   "file_extension": ".py",
   "mimetype": "text/x-python",
   "name": "python",
   "nbconvert_exporter": "python",
   "pygments_lexer": "ipython2",
   "version": "2.7.6"
  }
 },
 "nbformat": 4,
 "nbformat_minor": 5
}
