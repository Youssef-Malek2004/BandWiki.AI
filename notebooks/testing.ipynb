{
 "cells": [
  {
   "metadata": {
    "ExecuteTime": {
     "end_time": "2025-04-26T14:13:02.958439Z",
     "start_time": "2025-04-26T14:13:02.953600Z"
    }
   },
   "cell_type": "code",
   "source": [
    "from fastapi import FastAPI, HTTPException\n",
    "from pydantic import BaseModel\n",
    "from dotenv import load_dotenv\n",
    "import os\n",
    "from langchain_chroma import Chroma\n",
    "from langchain_huggingface.embeddings import HuggingFaceEmbeddings\n",
    "from langchain_openai import ChatOpenAI\n",
    "from langchain import hub\n",
    "from langchain.agents import create_tool_calling_agent, AgentExecutor\n",
    "from langchain_core.runnables.history import RunnableWithMessageHistory\n",
    "from langchain_community.chat_message_histories import ChatMessageHistory\n",
    "from langchain_core.chat_history import BaseChatMessageHistory\n",
    "from langchain.tools.retriever import create_retriever_tool\n",
    "from langchain_core.prompts import ChatPromptTemplate, MessagesPlaceholder\n",
    "from langchain.tools import tool\n",
    "from langchain_community.document_loaders import TextLoader\n",
    "from langchain.text_splitter import RecursiveCharacterTextSplitter"
   ],
   "id": "e92aad2971568384",
   "outputs": [],
   "execution_count": 11
  },
  {
   "metadata": {
    "ExecuteTime": {
     "end_time": "2025-04-26T14:13:12.003081Z",
     "start_time": "2025-04-26T14:13:03.263488Z"
    }
   },
   "cell_type": "code",
   "source": [
    "load_dotenv()\n",
    "\n",
    "# Initialize FastAPI app\n",
    "app = FastAPI()\n",
    "\n",
    "# Initialize components globally (loaded once)\n",
    "embedding = HuggingFaceEmbeddings(model_name=\"intfloat/e5-large-v2\")\n",
    "\n",
    "try:\n",
    "    loader = TextLoader(\"../data/acdc.txt\")\n",
    "    docs = loader.load()\n",
    "    text_splitter = RecursiveCharacterTextSplitter(chunk_size=1000, chunk_overlap=200)\n",
    "    documents = text_splitter.split_documents(docs)\n",
    "    db = Chroma.from_documents(documents, embedding)\n",
    "    db._persist_directory\n",
    "except Exception as e:\n",
    "    raise RuntimeError(f\"Failed to load Chroma DB: {e}\")"
   ],
   "id": "70d5802b35d9fb19",
   "outputs": [],
   "execution_count": 12
  },
  {
   "metadata": {
    "ExecuteTime": {
     "end_time": "2025-04-26T14:17:49.167227Z",
     "start_time": "2025-04-26T14:17:48.918388Z"
    }
   },
   "cell_type": "code",
   "source": [
    "db = Chroma(\n",
    "    persist_directory=\"./chroma_db\",\n",
    "    embedding_function=embedding\n",
    ")\n"
   ],
   "id": "b9eda021deec0be3",
   "outputs": [
    {
     "ename": "TypeError",
     "evalue": "VectorStore.add_documents() missing 1 required positional argument: 'documents'",
     "output_type": "error",
     "traceback": [
      "\u001B[0;31m---------------------------------------------------------------------------\u001B[0m",
      "\u001B[0;31mTypeError\u001B[0m                                 Traceback (most recent call last)",
      "Cell \u001B[0;32mIn[20], line 6\u001B[0m\n\u001B[1;32m      1\u001B[0m db \u001B[38;5;241m=\u001B[39m Chroma(\n\u001B[1;32m      2\u001B[0m     persist_directory\u001B[38;5;241m=\u001B[39m\u001B[38;5;124m\"\u001B[39m\u001B[38;5;124m./chroma_db\u001B[39m\u001B[38;5;124m\"\u001B[39m,\n\u001B[1;32m      3\u001B[0m     embedding_function\u001B[38;5;241m=\u001B[39membedding\n\u001B[1;32m      4\u001B[0m )\n\u001B[0;32m----> 6\u001B[0m db\u001B[38;5;241m.\u001B[39madd_documents()\n",
      "\u001B[0;31mTypeError\u001B[0m: VectorStore.add_documents() missing 1 required positional argument: 'documents'"
     ]
    }
   ],
   "execution_count": 20
  },
  {
   "metadata": {
    "ExecuteTime": {
     "end_time": "2025-04-26T14:15:59.882873Z",
     "start_time": "2025-04-26T14:15:59.880301Z"
    }
   },
   "cell_type": "code",
   "source": "retriever = db.as_retriever()",
   "id": "4f1503e49906e0f2",
   "outputs": [],
   "execution_count": 17
  },
  {
   "metadata": {
    "ExecuteTime": {
     "end_time": "2025-04-26T14:16:07.846827Z",
     "start_time": "2025-04-26T14:16:06.836004Z"
    }
   },
   "cell_type": "code",
   "source": "retriever.invoke(\"founders of ac/dc\")",
   "id": "967aa5e6ecd83974",
   "outputs": [
    {
     "name": "stderr",
     "output_type": "stream",
     "text": [
      "huggingface/tokenizers: The current process just got forked, after parallelism has already been used. Disabling parallelism to avoid deadlocks...\n",
      "To disable this warning, you can either:\n",
      "\t- Avoid using `tokenizers` before the fork if possible\n",
      "\t- Explicitly set the environment variable TOKENIZERS_PARALLELISM=(true | false)\n"
     ]
    },
    {
     "data": {
      "text/plain": [
       "[Document(id='6aaba6b8-d6a0-4548-996d-e9c0ff5eb8e2', metadata={'source': '../data/acdc.txt'}, page_content=\"AC/DC were founded by brothers Angus (lead guitar) and Malcolm Young (rhythm guitar), with Colin Burgess (drums), Larry Van Kriedt (bass guitar) and Dave Evans (lead vocals). They underwent several line-up changes before releasing their debut Australasian-only album, High Voltage (1975). Membership stabilised after the release of Let There Be Rock (1977), with the Young brothers, Phil Rudd on drums, Cliff Williams on bass guitar and Bon Scott on lead vocals. Seven months after the release of Highway to Hell (1979), Scott died of alcohol poisoning and English singer Brian Johnson was then recruited as their new frontman. Their first album with Johnson, Back in Black (1980), dedicated to Scott's memory, became the second best-selling album of all time. Their eighth studio album, For Those About to Rock (1981), was their first album to reach number one on the Billboard 200. Rudd was fired partway through the Flick of the Switch sessions in 1983 and was replaced by Simon Wright, who was\"),\n",
       " Document(id='bdde9173-fcc1-48db-863d-703867e978dc', metadata={'source': '../data/acdc.txt'}, page_content=\"AC/DC were founded by brothers Angus (lead guitar) and Malcolm Young (rhythm guitar), with Colin Burgess (drums), Larry Van Kriedt (bass guitar) and Dave Evans (lead vocals). They underwent several line-up changes before releasing their debut Australasian-only album, High Voltage (1975). Membership stabilised after the release of Let There Be Rock (1977), with the Young brothers, Phil Rudd on drums, Cliff Williams on bass guitar and Bon Scott on lead vocals. Seven months after the release of Highway to Hell (1979), Scott died of alcohol poisoning and English singer Brian Johnson was then recruited as their new frontman. Their first album with Johnson, Back in Black (1980), dedicated to Scott's memory, became the second best-selling album of all time. Their eighth studio album, For Those About to Rock (1981), was their first album to reach number one on the Billboard 200. Rudd was fired partway through the Flick of the Switch sessions in 1983 and was replaced by Simon Wright, who was\"),\n",
       " Document(id='b4956cc9-daea-4967-916c-e299af863173', metadata={'source': '../data/acdc.txt'}, page_content=\"AC/DC were founded by brothers Angus (lead guitar) and Malcolm Young (rhythm guitar), with Colin Burgess (drums), Larry Van Kriedt (bass guitar) and Dave Evans (lead vocals). They underwent several line-up changes before releasing their debut Australasian-only album, High Voltage (1975). Membership stabilised after the release of Let There Be Rock (1977), with the Young brothers, Phil Rudd on drums, Cliff Williams on bass guitar and Bon Scott on lead vocals. Seven months after the release of Highway to Hell (1979), Scott died of alcohol poisoning and English singer Brian Johnson was then recruited as their new frontman. Their first album with Johnson, Back in Black (1980), dedicated to Scott's memory, became the second best-selling album of all time. Their eighth studio album, For Those About to Rock (1981), was their first album to reach number one on the Billboard 200. Rudd was fired partway through the Flick of the Switch sessions in 1983 and was replaced by Simon Wright, who was\"),\n",
       " Document(id='711af19e-4863-4a2c-99ac-d696a4bec3fd', metadata={'source': '../data/acdc.txt'}, page_content=\"This photo is in black and white. Angus, aged 27, is shown playing guitar with both hands. He is seen shirtless, with shorts, and the socks-shoes combo. Brian Johnson, aged 34, is shown behind Angus, with his hands and knees on the ground. He is seen wearing an Irish hat, a tank top, jeans and shoes. Both are shown in right profile.\\nThis photo is in black and white. Malcolm, aged 29, is shown in left profile, playing guitar with both hands. He has over shoulder-length hair, and is wearing a dark T-shirt, jeans and shoes.\\nAC/DC's founding members Angus Young (left) and Malcolm Young (right); both performing in Manchester in 1982\")]"
      ]
     },
     "execution_count": 18,
     "metadata": {},
     "output_type": "execute_result"
    }
   ],
   "execution_count": 18
  },
  {
   "metadata": {},
   "cell_type": "code",
   "outputs": [],
   "execution_count": null,
   "source": "",
   "id": "fd13b43f773b7732"
  }
 ],
 "metadata": {
  "kernelspec": {
   "display_name": "Python 3",
   "language": "python",
   "name": "python3"
  },
  "language_info": {
   "codemirror_mode": {
    "name": "ipython",
    "version": 2
   },
   "file_extension": ".py",
   "mimetype": "text/x-python",
   "name": "python",
   "nbconvert_exporter": "python",
   "pygments_lexer": "ipython2",
   "version": "2.7.6"
  }
 },
 "nbformat": 4,
 "nbformat_minor": 5
}
