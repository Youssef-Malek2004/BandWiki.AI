{
 "cells": [
  {
   "cell_type": "code",
   "id": "initial_id",
   "metadata": {
    "collapsed": true,
    "ExecuteTime": {
     "end_time": "2025-04-26T16:57:41.112791Z",
     "start_time": "2025-04-26T16:57:40.086128Z"
    }
   },
   "source": [
    "from langchain_community.chat_message_histories import ChatMessageHistory\n",
    "from app.chroma_store import get_chroma_db\n",
    "from app.agent import build_agent\n",
    "from langchain_openai import ChatOpenAI\n",
    "from app.config import LLM_MODEL, OPENAI_API_KEY, OPENAI_API_BASE, TEMPERATURE\n",
    "from langchain_core.output_parsers import JsonOutputKeyToolsParser\n",
    "from langchain_core.runnables import RunnablePassthrough\n",
    "import importlib\n",
    "import prompts  # the whole folder\n",
    "importlib.reload(prompts)\n",
    "\n",
    "from prompts import llm_judge_prompt"
   ],
   "outputs": [],
   "execution_count": 1
  },
  {
   "metadata": {
    "ExecuteTime": {
     "end_time": "2025-04-26T16:57:44.619088Z",
     "start_time": "2025-04-26T16:57:44.617098Z"
    }
   },
   "cell_type": "code",
   "source": [
    "store = {}\n",
    "\n",
    "def get_session_history(session_id: str):\n",
    "    return store.setdefault(session_id, ChatMessageHistory())"
   ],
   "id": "aaceb4a600601459",
   "outputs": [],
   "execution_count": 2
  },
  {
   "metadata": {
    "ExecuteTime": {
     "end_time": "2025-04-26T16:57:53.573153Z",
     "start_time": "2025-04-26T16:57:45.870799Z"
    }
   },
   "cell_type": "code",
   "source": [
    "db = get_chroma_db()\n",
    "retriever = db.as_retriever()\n",
    "qa_agent = build_agent(retriever, get_session_history)"
   ],
   "id": "5e1d25a3840254e3",
   "outputs": [],
   "execution_count": 3
  },
  {
   "metadata": {
    "ExecuteTime": {
     "end_time": "2025-04-26T17:10:54.628620Z",
     "start_time": "2025-04-26T17:10:54.612903Z"
    }
   },
   "cell_type": "code",
   "source": [
    "query = 'Did Ariana Grande marry pete?'\n",
    "session_id = '1'"
   ],
   "id": "a2df461d840d9bab",
   "outputs": [],
   "execution_count": 54
  },
  {
   "metadata": {
    "ExecuteTime": {
     "end_time": "2025-04-26T17:10:58.035542Z",
     "start_time": "2025-04-26T17:10:54.789627Z"
    }
   },
   "cell_type": "code",
   "source": [
    "response = qa_agent.invoke(\n",
    "            {\"input\": query},\n",
    "            config={\"configurable\": {\"session_id\": session_id}}\n",
    "        )\n",
    "\n",
    "print(response['output'])"
   ],
   "id": "486841d6a944ed55",
   "outputs": [
    {
     "name": "stdout",
     "output_type": "stream",
     "text": [
      "\n",
      "\n",
      "\u001B[1m> Entering new AgentExecutor chain...\u001B[0m\n",
      "\u001B[32;1m\u001B[1;3m\n",
      "Invoking: `get_band_information` with `{'query': 'Ariana Grande'}`\n",
      "\n",
      "\n",
      "\u001B[0m\u001B[36;1m\u001B[1;3m{'context': 'Influences\\n\\nGenres\\n\\nFor the book Under My Thumb: Songs That Hate Women and the Women Who Love Them, The Guardian arts critic Fiona Sturges contributed an essay evaluating her love for AC/DC. While acknowledging she is a feminist and that the band\\'s music is problematic for her, she believed it would be \"daft as opposed to damaging\" for female listeners if they could understand the band to be \"a bunch of archly sex-obsessed idiots with sharp tunes and some seriously killer riffs\". Despite the \"unpleasant sneering quality\" of \"Carry Me Home\"\\'s claims about a woman who \"ain\\'t no lady\", the \"rape fantasy\" of \"Let Me Put My Love into You\" and the generally one-dimensional portrayals of women, Sturges said songs such as \"Whole Lotta Rosie\" and \"You Shook Me All Night Long\" demonstrated that the female characters \"are also having a good time and are, more often than not, in the driving seat in sexual terms. [...] [I]t\\'s the men who come over as passive and hopeless, awestruck in the presence of sexual partners\\n\\nGene Simmons of hard rock contemporaries Kiss remarked, \"a lot of people look the same and act the same and do the same thing. Every once in a while you see a band like AC/DC. Nobody\\'s like them. We\\'d like to think we\\'re unique in that way too.\"[261] Slash of Guns N\\' Roses called them \"with the exception of the [Rolling] Stones, the greatest rock \\'n\\' roll band ever.\"[262] \"I always liked them,\" said Australian compatriot and singer-songwriter Nick Cave. \"We had this TV show called Countdown and they were often on and they were always a riot and absolutely unique. They were a heavy rock band, but Bon Scott would go on Countdown dressed as a schoolgirl and stuff like that. They were always very anarchic and never took the thing too seriously.\"[263]'}\u001B[0m\u001B[32;1m\u001B[1;3mSorry, I don't have enough verified information about this band yet.\u001B[0m\n",
      "\n",
      "\u001B[1m> Finished chain.\u001B[0m\n",
      "Sorry, I don't have enough verified information about this band yet.\n"
     ]
    }
   ],
   "execution_count": 55
  },
  {
   "metadata": {
    "ExecuteTime": {
     "end_time": "2025-04-26T17:11:00.865048Z",
     "start_time": "2025-04-26T17:11:00.861973Z"
    }
   },
   "cell_type": "code",
   "source": [
    "def format_tool_calls(intermediate_steps):\n",
    "    tool_calls = []\n",
    "    for step, _ in intermediate_steps:\n",
    "        if hasattr(step, 'tool') and hasattr(step, 'tool_input'):\n",
    "            tool_calls.append(f\"{step.tool} called with {step.tool_input}\")\n",
    "    return \"\\n\".join(tool_calls)\n",
    "\n",
    "tool_calls_summary = format_tool_calls(response['intermediate_steps'])\n",
    "\n",
    "print(tool_calls_summary)"
   ],
   "id": "991e900e8ed1b7e8",
   "outputs": [
    {
     "name": "stdout",
     "output_type": "stream",
     "text": [
      "get_band_information called with {'query': 'Ariana Grande'}\n"
     ]
    }
   ],
   "execution_count": 56
  },
  {
   "metadata": {
    "ExecuteTime": {
     "end_time": "2025-04-26T17:11:01.458754Z",
     "start_time": "2025-04-26T17:11:01.425049Z"
    }
   },
   "cell_type": "code",
   "source": [
    "judge_llm = ChatOpenAI(\n",
    "        model=LLM_MODEL,\n",
    "        api_key=OPENAI_API_KEY,\n",
    "        base_url=OPENAI_API_BASE,\n",
    "        temperature=TEMPERATURE\n",
    "    )\n",
    "\n",
    "judge_chain = llm_judge_prompt | judge_llm "
   ],
   "id": "70a74ab328a2f3b6",
   "outputs": [],
   "execution_count": 57
  },
  {
   "metadata": {
    "ExecuteTime": {
     "end_time": "2025-04-26T17:11:02.836596Z",
     "start_time": "2025-04-26T17:11:01.944302Z"
    }
   },
   "cell_type": "code",
   "source": [
    "judge_response = judge_chain.invoke({\n",
    "    \"query\": query,\n",
    "    \"final_answer\": response['output'],\n",
    "    \"tool_calls\": tool_calls_summary,\n",
    "    \"chat_history\": store[session_id].messages\n",
    "})\n"
   ],
   "id": "e6290668b450fe2f",
   "outputs": [],
   "execution_count": 58
  },
  {
   "metadata": {
    "ExecuteTime": {
     "end_time": "2025-04-26T17:11:03.291757Z",
     "start_time": "2025-04-26T17:11:03.287309Z"
    }
   },
   "cell_type": "code",
   "source": [
    "import json\n",
    "\n",
    "raw_content = judge_response.content\n",
    "\n",
    "# Clean it: remove ```json and ``` if present\n",
    "cleaned_content = raw_content.strip()\n",
    "if cleaned_content.startswith(\"```json\"):\n",
    "    cleaned_content = cleaned_content[len(\"```json\"):].strip()\n",
    "if cleaned_content.startswith(\"```\"):\n",
    "    cleaned_content = cleaned_content[len(\"```\"):].strip()\n",
    "if cleaned_content.endswith(\"```\"):\n",
    "    cleaned_content = cleaned_content[:-3].strip()\n",
    "\n",
    "result = json.loads(cleaned_content)\n",
    "print(result['relevant'])"
   ],
   "id": "22baae74ebb7c701",
   "outputs": [
    {
     "name": "stdout",
     "output_type": "stream",
     "text": [
      "True\n"
     ]
    }
   ],
   "execution_count": 59
  },
  {
   "metadata": {},
   "cell_type": "code",
   "outputs": [],
   "execution_count": null,
   "source": "",
   "id": "62ca1e6591dee6fd"
  }
 ],
 "metadata": {
  "kernelspec": {
   "display_name": "Python 3",
   "language": "python",
   "name": "python3"
  },
  "language_info": {
   "codemirror_mode": {
    "name": "ipython",
    "version": 2
   },
   "file_extension": ".py",
   "mimetype": "text/x-python",
   "name": "python",
   "nbconvert_exporter": "python",
   "pygments_lexer": "ipython2",
   "version": "2.7.6"
  }
 },
 "nbformat": 4,
 "nbformat_minor": 5
}
