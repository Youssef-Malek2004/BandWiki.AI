{
 "cells": [
  {
   "cell_type": "code",
   "id": "initial_id",
   "metadata": {
    "collapsed": true,
    "ExecuteTime": {
     "end_time": "2025-04-28T19:53:07.841894Z",
     "start_time": "2025-04-28T19:53:07.837345Z"
    }
   },
   "source": [
    "from langchain_community.chat_message_histories import ChatMessageHistory\n",
    "from app.chroma_store import get_chroma_db\n",
    "from app.agent import build_agent\n",
    "from langchain_openai import ChatOpenAI\n",
    "from app.config import LLM_MODEL, OPENAI_API_KEY, OPENAI_API_BASE, TEMPERATURE\n",
    "from langchain_core.output_parsers import JsonOutputKeyToolsParser\n",
    "from langchain_core.runnables import RunnablePassthrough, RunnableWithMessageHistory, RunnableSerializable\n",
    "import importlib\n",
    "import prompts  # the whole folder\n",
    "importlib.reload(prompts)\n",
    "\n",
    "from prompts import llm_judge_prompt\n",
    "from prompts import search_judge_prompt"
   ],
   "outputs": [],
   "execution_count": 2
  },
  {
   "metadata": {
    "ExecuteTime": {
     "end_time": "2025-04-28T19:53:10.317792Z",
     "start_time": "2025-04-28T19:53:10.314612Z"
    }
   },
   "cell_type": "code",
   "source": [
    "store = {}\n",
    "\n",
    "def get_session_history(session_id: str):\n",
    "    return store.setdefault(session_id, ChatMessageHistory())"
   ],
   "id": "aaceb4a600601459",
   "outputs": [],
   "execution_count": 3
  },
  {
   "metadata": {
    "ExecuteTime": {
     "end_time": "2025-04-28T19:53:23.834491Z",
     "start_time": "2025-04-28T19:53:11.749096Z"
    }
   },
   "cell_type": "code",
   "source": [
    "db = get_chroma_db()\n",
    "retriever = db.as_retriever()\n",
    "qa_agent = build_agent(retriever, get_session_history)"
   ],
   "id": "5e1d25a3840254e3",
   "outputs": [],
   "execution_count": 4
  },
  {
   "metadata": {
    "ExecuteTime": {
     "end_time": "2025-04-28T19:55:19.398041Z",
     "start_time": "2025-04-28T19:55:19.395538Z"
    }
   },
   "cell_type": "code",
   "source": [
    "query = 'Who founded AC/DC?'\n",
    "session_id = '1'"
   ],
   "id": "a2df461d840d9bab",
   "outputs": [],
   "execution_count": 14
  },
  {
   "metadata": {
    "ExecuteTime": {
     "end_time": "2025-04-28T19:55:23.590235Z",
     "start_time": "2025-04-28T19:55:19.818856Z"
    }
   },
   "cell_type": "code",
   "source": [
    "response = qa_agent.invoke(\n",
    "            {\"input\": query},\n",
    "            config={\"configurable\": {\"session_id\": session_id}}\n",
    "        )\n",
    "\n",
    "print(response['output'])"
   ],
   "id": "486841d6a944ed55",
   "outputs": [
    {
     "name": "stdout",
     "output_type": "stream",
     "text": [
      "\n",
      "\n",
      "\u001B[1m> Entering new AgentExecutor chain...\u001B[0m\n",
      "\u001B[32;1m\u001B[1;3m\n",
      "Invoking: `get_band_information` with `{'query': 'Who founded AC/DC?'}`\n",
      "\n",
      "\n",
      "\u001B[0m\u001B[36;1m\u001B[1;3m{'context': '[Band: Ac Dc] [Source:Wikipedia] AC/DC were founded by brothers Angus (lead guitar) and Malcolm Young (rhythm guitar), with Colin Burgess (drums), Larry Van Kriedt (bass guitar) and Dave Evans (lead vocals). They underwent several line-up changes before releasing their debut Australasian-only album, High Voltage (1975). Membership stabilised after the release of Let There Be Rock (1977), with the Young brothers, Phil Rudd on drums, Cliff Williams on bass guitar and Bon Scott on lead vocals. Seven months after the release of Highway to Hell (1979), Scott died of alcohol poisoning and English singer Brian Johnson was then recruited as their new frontman. Their first album with Johnson, Back in Black (1980), dedicated to Scott\\'s memory, became the second best-selling album of all time. Their eighth studio album, For Those About to Rock (1981), was their first album to reach number one on the Billboard 200. Rudd was fired partway through the Flick of the Switch sessions in 1983 and was replaced by Simon Wright, who was\\n\\n[Band: Ac Dc] [Source:Wikipedia] AC/DC are an Australian rock band formed in Sydney in 1973. Their music has been variously described as hard rock, blues rock and heavy metal, although the band calls it simply \"rock and roll\". They are cited as a formative influence on the new wave of British heavy metal bands. The band was inducted into the Rock and Roll Hall of Fame in 2003 and have sold over 200 million records worldwide, making them one of the best-selling artists of all time.\\n\\n[Band: Ac Dc] [Source:Wikipedia] Upon formation, Malcolm and Angus developed the band\\'s name after their sister Margaret pointed out the symbol \"AC/DC\" on the AC adapter of her sewing machine.[8] A.C./D.C. is an abbreviation for alternating current/direct current electricity. The brothers felt that this name symbolised the band\\'s raw energy and the power-driven performances of their music.[14] It is pronounced one letter at a time, though the band are colloquially known as Acca Dacca in Australia.[2][15] The AC/DC band name is stylised with a lightning bolt separating the AC from DC and has been used on all studio albums, except the international version of Dirty Deeds Done Dirt Cheap. Their logo was designed by American typographer Gerard Huerta in 1977 and first appeared on Let There Be Rock. Adam Behr of The Bulletin explained, \"[its] type font conveyed the sense of electricity implicit in their name.\\n\\n[Band: Ac Dc] [Source:Wikipedia] AC/DC\\'s influences include the Rolling Stones, Chuck Berry, Billy Thorpe, the Easybeats and Vanda & Young.[2][8][234] The impact of Australian pub rock on AC/DC was documented on ABC\\'s Long Way to the Top (2001).[235] Angus reflected on his playing style: \"A lot of it was nerves at first. It was George that told me if you get on stage and play guitar you want to let people know you are doing something. When I started in the band I was shy and had to push myself forward. [...] [Patrons] would be throwing beer cans and I thought \\'just keep moving\\' and that\\'s how it all started.\"[235] George had taught both Malcolm and Angus \"how to play guitar, and playing them classic rock and roll and blues records until that music was like blood in their veins.\"[9] According to Long Way to the Top\\'s writers, \"[t]he hardships of the Australian road would complete AC/DC\\'s training. [Scott] revelled in the lifestyle. Somehow he rose above all the substance abuse to become the ultimate rock and roll', 'snippets': [\"[Band: Ac Dc] [Source:Wikipedia] AC/DC were founded by brothers Angus (lead guitar) and Malcolm Young (rhythm guitar), with Colin Burgess (drums), Larry Van Kriedt (bass guitar) and Dave Evans (lead vocals). They underwent several line-up changes before releasing their debut Australasian-only album, High Voltage (1975). Membership stabilised after the release of Let There Be Rock (1977), with the Young brothers, Phil Rudd on drums, Cliff Williams on bass guitar and Bon Scott on lead vocals. Seven months after the release of Highway to Hell (1979), Scott died of alcohol poisoning and English singer Brian Johnson was then recruited as their new frontman. Their first album with Johnson, Back in Black (1980), dedicated to Scott's memory, became the second best-selling album of all time. Their eighth studio album, For Those About to Rock (1981), was their first album to reach number one on the Billboard 200. Rudd was fired partway through the Flick of the Switch sessions in 1983 and was replaced by Simon Wright, who was\", '[Band: Ac Dc] [Source:Wikipedia] AC/DC are an Australian rock band formed in Sydney in 1973. Their music has been variously described as hard rock, blues rock and heavy metal, although the band calls it simply \"rock and roll\". They are cited as a formative influence on the new wave of British heavy metal bands. The band was inducted into the Rock and Roll Hall of Fame in 2003 and have sold over 200 million records worldwide, making them one of the best-selling artists of all time.', '[Band: Ac Dc] [Source:Wikipedia] Upon formation, Malcolm and Angus developed the band\\'s name after their sister Margaret pointed out the symbol \"AC/DC\" on the AC adapter of her sewing machine.[8] A.C./D.C. is an abbreviation for alternating current/direct current electricity. The brothers felt that this name symbolised the band\\'s raw energy and the power-driven performances of their music.[14] It is pronounced one letter at a time, though the band are colloquially known as Acca Dacca in Australia.[2][15] The AC/DC band name is stylised with a lightning bolt separating the AC from DC and has been used on all studio albums, except the international version of Dirty Deeds Done Dirt Cheap. Their logo was designed by American typographer Gerard Huerta in 1977 and first appeared on Let There Be Rock. Adam Behr of The Bulletin explained, \"[its] type font conveyed the sense of electricity implicit in their name.', '[Band: Ac Dc] [Source:Wikipedia] AC/DC\\'s influences include the Rolling Stones, Chuck Berry, Billy Thorpe, the Easybeats and Vanda & Young.[2][8][234] The impact of Australian pub rock on AC/DC was documented on ABC\\'s Long Way to the Top (2001).[235] Angus reflected on his playing style: \"A lot of it was nerves at first. It was George that told me if you get on stage and play guitar you want to let people know you are doing something. When I started in the band I was shy and had to push myself forward. [...] [Patrons] would be throwing beer cans and I thought \\'just keep moving\\' and that\\'s how it all started.\"[235] George had taught both Malcolm and Angus \"how to play guitar, and playing them classic rock and roll and blues records until that music was like blood in their veins.\"[9] According to Long Way to the Top\\'s writers, \"[t]he hardships of the Australian road would complete AC/DC\\'s training. [Scott] revelled in the lifestyle. Somehow he rose above all the substance abuse to become the ultimate rock and roll']}\u001B[0m\u001B[32;1m\u001B[1;3mAC/DC was founded in 1973 by brothers Angus and Malcolm Young. According to Wikipedia, other early members included Colin Burgess, Larry Van Kriedt, and Dave Evans.\n",
      "\u001B[0m\n",
      "\n",
      "\u001B[1m> Finished chain.\u001B[0m\n",
      "AC/DC was founded in 1973 by brothers Angus and Malcolm Young. According to Wikipedia, other early members included Colin Burgess, Larry Van Kriedt, and Dave Evans.\n",
      "\n"
     ]
    }
   ],
   "execution_count": 15
  },
  {
   "metadata": {
    "ExecuteTime": {
     "end_time": "2025-04-28T19:55:27.051071Z",
     "start_time": "2025-04-28T19:55:27.048578Z"
    }
   },
   "cell_type": "code",
   "source": [
    "def format_tool_calls(intermediate_steps):\n",
    "    tool_calls = []\n",
    "    for step, _ in intermediate_steps:\n",
    "        if hasattr(step, 'tool') and hasattr(step, 'tool_input'):\n",
    "            tool_calls.append({\"tool\": step.tool, \"tool_input\": step.tool_input})\n",
    "    return tool_calls\n",
    "\n",
    "tool_calls_summary = format_tool_calls(response['intermediate_steps'])\n",
    "\n",
    "print(tool_calls_summary)"
   ],
   "id": "991e900e8ed1b7e8",
   "outputs": [
    {
     "name": "stdout",
     "output_type": "stream",
     "text": [
      "[{'tool': 'get_band_information', 'tool_input': {'query': 'Who founded AC/DC?'}}]\n"
     ]
    }
   ],
   "execution_count": 16
  },
  {
   "metadata": {
    "ExecuteTime": {
     "end_time": "2025-04-28T20:01:44.760376Z",
     "start_time": "2025-04-28T20:01:44.715816Z"
    }
   },
   "cell_type": "code",
   "source": [
    "judge_llm = ChatOpenAI(\n",
    "        model=LLM_MODEL,\n",
    "        api_key=OPENAI_API_KEY,\n",
    "        base_url=OPENAI_API_BASE,\n",
    "        temperature=TEMPERATURE\n",
    "    )\n",
    "\n",
    "judge_chain = search_judge_prompt | judge_llm "
   ],
   "id": "70a74ab328a2f3b6",
   "outputs": [],
   "execution_count": 26
  },
  {
   "metadata": {
    "ExecuteTime": {
     "end_time": "2025-04-28T20:01:47.141334Z",
     "start_time": "2025-04-28T20:01:45.000213Z"
    }
   },
   "cell_type": "code",
   "source": [
    "judge_response = judge_chain.invoke({\n",
    "    \"query\": query,\n",
    "    \"final_answer\": response['output'],\n",
    "    \"tool_calls\": tool_calls_summary,\n",
    "    \"chat_history\": store[session_id].messages\n",
    "})\n"
   ],
   "id": "e6290668b450fe2f",
   "outputs": [],
   "execution_count": 27
  },
  {
   "metadata": {
    "ExecuteTime": {
     "end_time": "2025-04-28T20:01:48.278409Z",
     "start_time": "2025-04-28T20:01:48.274788Z"
    }
   },
   "cell_type": "code",
   "source": [
    "import json\n",
    "\n",
    "raw_content = judge_response.content\n",
    "\n",
    "# Clean it: remove ```json and ``` if present\n",
    "cleaned_content = raw_content.strip()\n",
    "if cleaned_content.startswith(\"```json\"):\n",
    "    cleaned_content = cleaned_content[len(\"```json\"):].strip()\n",
    "if cleaned_content.startswith(\"```\"):\n",
    "    cleaned_content = cleaned_content[len(\"```\"):].strip()\n",
    "if cleaned_content.endswith(\"```\"):\n",
    "    cleaned_content = cleaned_content[:-3].strip()\n",
    "\n",
    "result = json.loads(cleaned_content)\n",
    "print(result['should_search'])"
   ],
   "id": "22baae74ebb7c701",
   "outputs": [
    {
     "name": "stdout",
     "output_type": "stream",
     "text": [
      "False\n"
     ]
    }
   ],
   "execution_count": 28
  },
  {
   "metadata": {
    "ExecuteTime": {
     "end_time": "2025-04-28T20:35:00.012378Z",
     "start_time": "2025-04-28T20:34:54.567873Z"
    }
   },
   "cell_type": "code",
   "source": [
    "import bandwiki_graph\n",
    "importlib.reload(bandwiki_graph.graph)\n",
    "from bandwiki_graph.graph import build_bandwiki_graph\n",
    "\n",
    "bandwiki_chain = build_bandwiki_graph()\n",
    "\n",
    "user_query = \"Who founded AC/DC?\"\n",
    "\n",
    "initial_state = {\n",
    "    \"query\": user_query,\n",
    "    \"chat_history\": store[session_id].messages,\n",
    "    \"band_agent\": qa_agent,\n",
    "    \"judge_chain\": judge_chain,\n",
    "}\n",
    "final_state = bandwiki_chain.invoke(\n",
    "    initial_state,\n",
    "    config={\"configurable\": {\"session_id\": session_id}}\n",
    ")\n",
    "\n",
    "\n",
    "print(\"Final Answer:\", final_state[\"final_answer\"])\n"
   ],
   "id": "4dfa31cb30544c46",
   "outputs": [
    {
     "name": "stdout",
     "output_type": "stream",
     "text": [
      "\n",
      "\n",
      "\u001B[1m> Entering new AgentExecutor chain...\u001B[0m\n",
      "\u001B[32;1m\u001B[1;3mAC/DC was founded in Sydney, Australia in 1973 by brothers Angus and Malcolm Young. Other early members included Colin Burgess, Larry Van Kriedt, and Dave Evans. This information is according to Wikipedia.\n",
      "\u001B[0m\n",
      "\n",
      "\u001B[1m> Finished chain.\u001B[0m\n",
      "Final Answer: AC/DC was founded in Sydney, Australia in 1973 by brothers Angus and Malcolm Young. Other early members included Colin Burgess, Larry Van Kriedt, and Dave Evans. This information is according to Wikipedia.\n",
      "\n"
     ]
    }
   ],
   "execution_count": 43
  },
  {
   "metadata": {},
   "cell_type": "code",
   "outputs": [],
   "execution_count": null,
   "source": "",
   "id": "e08775c9223eba79"
  }
 ],
 "metadata": {
  "kernelspec": {
   "display_name": "Python 3",
   "language": "python",
   "name": "python3"
  },
  "language_info": {
   "codemirror_mode": {
    "name": "ipython",
    "version": 2
   },
   "file_extension": ".py",
   "mimetype": "text/x-python",
   "name": "python",
   "nbconvert_exporter": "python",
   "pygments_lexer": "ipython2",
   "version": "2.7.6"
  }
 },
 "nbformat": 4,
 "nbformat_minor": 5
}
