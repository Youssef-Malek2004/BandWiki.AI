{
 "cells": [
  {
   "cell_type": "code",
   "id": "initial_id",
   "metadata": {
    "collapsed": true,
    "ExecuteTime": {
     "end_time": "2025-04-26T13:17:27.081530Z",
     "start_time": "2025-04-26T13:17:27.073461Z"
    }
   },
   "source": [
    "from fastapi import FastAPI, HTTPException\n",
    "from pydantic import BaseModel\n",
    "from dotenv import load_dotenv\n",
    "import os\n",
    "from langchain_community.vectorstores import Chroma\n",
    "from langchain_huggingface.embeddings import HuggingFaceEmbeddings\n",
    "from langchain_openai import ChatOpenAI\n",
    "import openai\n",
    "from langchain import hub\n",
    "from langchain.agents import create_tool_calling_agent, AgentExecutor\n",
    "from langchain_core.runnables.history import RunnableWithMessageHistory\n",
    "from langchain_community.chat_message_histories import ChatMessageHistory\n",
    "from langchain_core.chat_history import BaseChatMessageHistory\n",
    "from langchain.tools.retriever import create_retriever_tool\n",
    "from langchain_community.document_loaders import TextLoader\n",
    "from langchain_text_splitters import RecursiveCharacterTextSplitter"
   ],
   "outputs": [],
   "execution_count": 74
  },
  {
   "metadata": {
    "ExecuteTime": {
     "end_time": "2025-04-26T13:17:28.376303Z",
     "start_time": "2025-04-26T13:17:28.368430Z"
    }
   },
   "cell_type": "code",
   "source": "load_dotenv()",
   "id": "775a47d0e885e522",
   "outputs": [
    {
     "data": {
      "text/plain": [
       "True"
      ]
     },
     "execution_count": 75,
     "metadata": {},
     "output_type": "execute_result"
    }
   ],
   "execution_count": 75
  },
  {
   "metadata": {
    "ExecuteTime": {
     "end_time": "2025-04-26T13:29:46.779566Z",
     "start_time": "2025-04-26T13:29:38.271627Z"
    }
   },
   "cell_type": "code",
   "source": [
    "loader = TextLoader(\"../data/AC:DC.txt\")\n",
    "docs = loader.load()\n",
    "text_splitter = RecursiveCharacterTextSplitter(chunk_size=1000, chunk_overlap=200)\n",
    "documents = text_splitter.split_documents(docs)\n",
    "embedding = HuggingFaceEmbeddings(model_name=\"intfloat/e5-large-v2\")\n",
    "db = Chroma.from_documents(documents, embedding, persist_directory=\"./new_chroma_db\")"
   ],
   "id": "c3111b102be0e4d2",
   "outputs": [],
   "execution_count": 124
  },
  {
   "metadata": {
    "ExecuteTime": {
     "end_time": "2025-04-26T13:29:48.421739Z",
     "start_time": "2025-04-26T13:29:48.416525Z"
    }
   },
   "cell_type": "code",
   "source": "len(documents)",
   "id": "958b34eea50134e2",
   "outputs": [
    {
     "data": {
      "text/plain": [
       "99"
      ]
     },
     "execution_count": 125,
     "metadata": {},
     "output_type": "execute_result"
    }
   ],
   "execution_count": 125
  },
  {
   "metadata": {
    "ExecuteTime": {
     "end_time": "2025-04-26T13:29:57.765612Z",
     "start_time": "2025-04-26T13:29:57.753561Z"
    }
   },
   "cell_type": "code",
   "source": [
    "retriever = db.as_retriever()\n",
    "\n",
    "acdc_retrieval_function = {\n",
    "    \"name\": \"get_acdc_information\",\n",
    "    \"description\": \"Retrieve information about AC/DC from stored documents. Takes a 'query' string and returns a string containing the response of the retriever.\",\n",
    "    \"parameters\": {\n",
    "        \"type\": \"object\",\n",
    "        \"properties\": {\n",
    "            \"query\": {\n",
    "                \"type\": \"string\",\n",
    "                \"description\": \"The Query the user is asking about AC/DC, it can be a simple question or a complex one.\"\n",
    "            },\n",
    "        },\n",
    "        \"required\": [\"query\"]\n",
    "    }\n",
    "}\n",
    "\n",
    "def get_acdc_information(query: str) -> str:\n",
    "    \"\"\"\n",
    "    Given a query about AC/DC, retrieve relevant information using Chroma retriever.\n",
    "    \"\"\"\n",
    "    docs = retriever.invoke(query)\n",
    "    if not docs:\n",
    "        return \"No information found related to your query.\"\n",
    "    return \"\\n\\n\".join([doc.page_content for doc in docs])"
   ],
   "id": "9ead04704b9eebe1",
   "outputs": [],
   "execution_count": 126
  },
  {
   "metadata": {
    "ExecuteTime": {
     "end_time": "2025-04-26T13:29:58.967977Z",
     "start_time": "2025-04-26T13:29:58.960519Z"
    }
   },
   "cell_type": "code",
   "source": [
    "from google.genai.types import GenerateContentConfig\n",
    " \n",
    "# Generation Config\n",
    "config = GenerateContentConfig(\n",
    "    system_instruction=\"You are a helpful assistant that use tools to access and retrieve information about AC/DC from a Vector Store database retriever.\", \n",
    "    tools=[{\"function_declarations\": [acdc_retrieval_function]}], # define the functions that the LLM can use\n",
    ")"
   ],
   "id": "9d9827ab66c5e1ab",
   "outputs": [],
   "execution_count": 127
  },
  {
   "metadata": {
    "ExecuteTime": {
     "end_time": "2025-04-26T13:30:00.378462Z",
     "start_time": "2025-04-26T13:30:00.315076Z"
    }
   },
   "cell_type": "code",
   "source": [
    "client = openai.OpenAI(\n",
    "    base_url=\"https://openrouter.ai/api/v1\",\n",
    "    api_key=os.getenv(\"OPENROUTER_API_KEY\"),\n",
    "    default_headers={\n",
    "        \"HTTP-Referer\": \"your-site.com\",\n",
    "        \"X-Title\": \"ACDC QA Bot\"\n",
    "    }\n",
    ")\n",
    "\n",
    "\n",
    "llm = ChatOpenAI(\n",
    "    model=\"google/gemini-2.0-flash-001\",\n",
    "    api_key=os.getenv(\"OPENROUTER_API_KEY\"),\n",
    "    base_url=\"https://openrouter.ai/api/v1\",\n",
    "    default_headers={\n",
    "        \"HTTP-Referer\": \"your-site.com\",\n",
    "        \"X-Title\": \"ACDC QA Bot\"\n",
    "    },\n",
    "    temperature=0.2,\n",
    ")"
   ],
   "id": "933f403e81a8c658",
   "outputs": [],
   "execution_count": 128
  },
  {
   "metadata": {
    "ExecuteTime": {
     "end_time": "2025-04-26T13:30:02.590409Z",
     "start_time": "2025-04-26T13:30:01.472540Z"
    }
   },
   "cell_type": "code",
   "source": [
    "from langchain_core.messages import HumanMessage\n",
    "\n",
    "messages = [\n",
    "    {\"role\": \"system\", \"content\": \"You are a helpful assistant that retrieves information about AC/DC.\"},\n",
    "    {\"role\": \"user\", \"content\": \"When was AC/DC founded?\"}\n",
    "]\n",
    "\n",
    "response = client.chat.completions.create(\n",
    "    model=\"google/gemini-2.0-flash-001\",\n",
    "    messages=messages,\n",
    "    tools=[{\"type\": \"function\", \"function\": acdc_retrieval_function}],\n",
    "    tool_choice=\"auto\",\n",
    ")"
   ],
   "id": "2433d1898689a6b7",
   "outputs": [],
   "execution_count": 129
  },
  {
   "metadata": {
    "ExecuteTime": {
     "end_time": "2025-04-26T13:30:04.607096Z",
     "start_time": "2025-04-26T13:30:04.603656Z"
    }
   },
   "cell_type": "code",
   "source": "print(response)",
   "id": "94ebbfa120d8c6c2",
   "outputs": [
    {
     "name": "stdout",
     "output_type": "stream",
     "text": [
      "ChatCompletion(id='gen-1745674202-OZCuDVy7FN5imkKMfdNH', choices=[Choice(finish_reason='tool_calls', index=0, logprobs=None, message=ChatCompletionMessage(content='', refusal=None, role='assistant', annotations=None, audio=None, function_call=None, tool_calls=[ChatCompletionMessageToolCall(id='tool_0_get_acdc_information', function=Function(arguments='{\"query\":\"When was AC/DC founded?\"}', name='get_acdc_information'), type='function', index=0)], reasoning=None), native_finish_reason='STOP')], created=1745674202, model='google/gemini-2.0-flash-001', object='chat.completion', service_tier=None, system_fingerprint=None, usage=CompletionUsage(completion_tokens=14, prompt_tokens=77, total_tokens=91, completion_tokens_details=None, prompt_tokens_details=None), provider='Google AI Studio')\n"
     ]
    }
   ],
   "execution_count": 130
  },
  {
   "metadata": {
    "ExecuteTime": {
     "end_time": "2025-04-26T13:30:08.325196Z",
     "start_time": "2025-04-26T13:30:05.837746Z"
    }
   },
   "cell_type": "code",
   "source": [
    "import json\n",
    "\n",
    "\n",
    "# Tool registry\n",
    "functions = {\n",
    "    \"get_acdc_information\": get_acdc_information\n",
    "}\n",
    "\n",
    "# Call function helper\n",
    "def call_function(function_name, **kwargs):\n",
    "    return functions[function_name](**kwargs)\n",
    "\n",
    "# Agentic loop\n",
    "def function_call_loop(prompt: str):\n",
    "    messages = [\n",
    "        {\"role\": \"system\", \"content\": \"You are a helpful assistant that retrieves information about AC/DC.\"},\n",
    "        {\"role\": \"user\", \"content\": prompt}\n",
    "    ]\n",
    "    \n",
    "    response = client.chat.completions.create(\n",
    "        model=\"google/gemini-2.0-flash-001\",\n",
    "        messages=messages,\n",
    "        tools=[{\"type\": \"function\", \"function\": acdc_retrieval_function}],\n",
    "        tool_choice=\"auto\",\n",
    "    )\n",
    "    \n",
    "    choice = response.choices[0]\n",
    "    \n",
    "    if choice.message.tool_calls:\n",
    "        # Function tool call detected\n",
    "        tool_call = choice.message.tool_calls[0]\n",
    "        tool_name = tool_call.function.name\n",
    "        arguments = json.loads(tool_call.function.arguments)\n",
    "        \n",
    "        print(f\"🔧 Calling tool: {tool_name} with args: {arguments}\")\n",
    "        \n",
    "        tool_result = call_function(tool_name, **arguments)\n",
    "        \n",
    "        # Now inform the LLM about the tool result\n",
    "        tool_result_message = {\n",
    "            \"role\": \"tool\",\n",
    "            \"tool_call_id\": tool_call.id,\n",
    "            \"name\": tool_name,\n",
    "            \"content\": json.dumps({\"result\": tool_result})\n",
    "        }\n",
    "        \n",
    "        # Continue conversation\n",
    "        followup_messages = [\n",
    "            *messages,  # original system + user messages\n",
    "            {\n",
    "                \"role\": \"assistant\",\n",
    "                \"tool_calls\": [\n",
    "                    {\n",
    "                        \"id\": tool_call.id,\n",
    "                        \"function\": {\n",
    "                            \"name\": tool_name,\n",
    "                            \"arguments\": json.dumps(arguments)\n",
    "                        },\n",
    "                        \"type\": \"function\"\n",
    "                    }\n",
    "                ]\n",
    "            },\n",
    "            tool_result_message\n",
    "        ]\n",
    "        \n",
    "        final_response = client.chat.completions.create(\n",
    "            model=\"google/gemini-2.0-flash-001\",\n",
    "            messages=followup_messages,\n",
    "        )\n",
    "        \n",
    "        final_text = final_response.choices[0].message.content\n",
    "        return final_text\n",
    "    \n",
    "    elif choice.message.content:\n",
    "        # Normal LLM direct response\n",
    "        return choice.message.content\n",
    "    \n",
    "    else:\n",
    "        return \"⚠️ No valid response from model.\"\n",
    "\n",
    "# Example usage\n",
    "output = function_call_loop(\"I really like hard rock music, but i don't know many bands, what song would you recommend i listen to that is really popular\")\n",
    "print(output)\n"
   ],
   "id": "9a86b45d3f370eda",
   "outputs": [
    {
     "name": "stdout",
     "output_type": "stream",
     "text": [
      "🔧 Calling tool: get_acdc_information with args: {'query': 'recommend a popular AC/DC song'}\n",
      "I would recommend listening to \"You Shook Me All Night Long\". It's one of their most popular songs and a hard rock classic!\n",
      "\n"
     ]
    }
   ],
   "execution_count": 131
  },
  {
   "metadata": {
    "ExecuteTime": {
     "end_time": "2025-04-26T13:30:11.455454Z",
     "start_time": "2025-04-26T13:30:11.412565Z"
    }
   },
   "cell_type": "code",
   "source": [
    "llm = ChatOpenAI(\n",
    "    model=\"google/gemini-2.0-flash-001\",\n",
    "    api_key=os.getenv(\"OPENAI_API_KEY\"),\n",
    "    base_url=os.getenv(\"OPENAI_API_BASE\"),\n",
    "    default_headers={\"HTTP-Referer\": \"your-site.com\", \"X-Title\": \"ACDC QA Bot\"},\n",
    "    temperature=0.2,\n",
    ")"
   ],
   "id": "5520caa073716b01",
   "outputs": [],
   "execution_count": 132
  },
  {
   "metadata": {
    "ExecuteTime": {
     "end_time": "2025-04-26T13:30:13.347411Z",
     "start_time": "2025-04-26T13:30:12.243051Z"
    }
   },
   "cell_type": "code",
   "source": "llm.invoke('hi there').content",
   "id": "eaec691071c668ee",
   "outputs": [
    {
     "data": {
      "text/plain": [
       "'Hi! How can I help you today?\\n'"
      ]
     },
     "execution_count": 133,
     "metadata": {},
     "output_type": "execute_result"
    }
   ],
   "execution_count": 133
  },
  {
   "metadata": {
    "ExecuteTime": {
     "end_time": "2025-04-26T13:30:15.092280Z",
     "start_time": "2025-04-26T13:30:15.073261Z"
    }
   },
   "cell_type": "code",
   "source": [
    "from langchain.tools import tool\n",
    "\n",
    "@tool\n",
    "def get_acdc_information_tool(query: str) -> dict:\n",
    "    \"\"\"\n",
    "    Given a query about AC/DC, retrieve relevant information using Chroma retriever.\n",
    "    \"\"\"\n",
    "    docs = retriever.invoke(query)\n",
    "    if not docs:\n",
    "        return {\"answer\": \"No information found related to your query.\"}\n",
    "\n",
    "    top_snippets = [doc.page_content for doc in docs]\n",
    "    snippet_text = \"\\n\\n\".join(top_snippets)\n",
    "\n",
    "    return {\"context\": snippet_text}\n",
    "\n",
    "llm_with_tools = llm.bind_tools([get_acdc_information_tool])"
   ],
   "id": "3063ab659f3ceb83",
   "outputs": [],
   "execution_count": 134
  },
  {
   "metadata": {
    "ExecuteTime": {
     "end_time": "2025-04-26T13:30:17.264196Z",
     "start_time": "2025-04-26T13:30:16.524252Z"
    }
   },
   "cell_type": "code",
   "source": [
    "messages = [\n",
    "    (\n",
    "        \"system\",\n",
    "        \"You are a helpful assistant that use tools to access and retrieve information about AC/DC band.\",\n",
    "    ),\n",
    "    (\"human\", \"Who were the founders of AC/DC?\"),\n",
    "]\n",
    " \n",
    "# Call the LLM with the messages and tools\n",
    "res = llm_with_tools.invoke(messages)\n",
    " \n",
    "# Check if the LLM returned a function call\n",
    "if res.tool_calls:\n",
    "    print(res.tool_calls)"
   ],
   "id": "5b87a44ca8b5443f",
   "outputs": [
    {
     "name": "stdout",
     "output_type": "stream",
     "text": [
      "[{'name': 'get_acdc_information_tool', 'args': {'query': 'Who were the founders of AC/DC?'}, 'id': 'tool_0_get_acdc_information_tool', 'type': 'tool_call'}]\n"
     ]
    }
   ],
   "execution_count": 135
  },
  {
   "metadata": {
    "ExecuteTime": {
     "end_time": "2025-04-26T13:30:22.498342Z",
     "start_time": "2025-04-26T13:30:20.192390Z"
    }
   },
   "cell_type": "code",
   "source": [
    "from langchain.agents import create_tool_calling_agent, AgentExecutor\n",
    "from langchain_core.prompts import ChatPromptTemplate, MessagesPlaceholder\n",
    " \n",
    "# Initialize the prompt template\n",
    "prompt = ChatPromptTemplate.from_messages([\n",
    "    (\"system\", \"You are a helpful assistant that uses tools to retrieve information about AC/DC. You MUST use tool outputs to answer questions, even if the outputs are long. Do your best to find the answer in the provided information.\"),\n",
    "    (\"human\", \"{input}\"),\n",
    "    MessagesPlaceholder(variable_name=\"agent_scratchpad\"),\n",
    "])\n",
    "\n",
    " \n",
    "# Create the agent and executor with out llm, tools and prompt\n",
    "agent = create_tool_calling_agent(llm_with_tools, [get_acdc_information_tool],prompt)\n",
    "agent_executor = AgentExecutor(agent=agent, tools=[get_acdc_information_tool], verbose=True)\n",
    " \n",
    "# Run our query \n",
    "res = agent_executor.invoke({\"input\": \"Who were the founders of AC/DC?\"})\n",
    "print(res[\"output\"])"
   ],
   "id": "298ef2c23584cf25",
   "outputs": [
    {
     "name": "stdout",
     "output_type": "stream",
     "text": [
      "\n",
      "\n",
      "\u001B[1m> Entering new AgentExecutor chain...\u001B[0m\n",
      "\u001B[32;1m\u001B[1;3m\n",
      "Invoking: `get_acdc_information_tool` with `{'query': 'Who founded AC/DC?'}`\n",
      "\n",
      "\n",
      "\u001B[0m\u001B[36;1m\u001B[1;3m{'context': 'AC/DC were founded by brothers Angus (lead guitar) and Malcolm Young (rhythm guitar), with Colin Burgess (drums), Larry Van Kriedt (bass guitar) and Dave Evans (lead vocals). They underwent several line-up changes before releasing their debut Australasian-only album, High Voltage (1975). Membership stabilised after the release of Let There Be Rock (1977), with the Young brothers, Phil Rudd on drums, Cliff Williams on bass guitar and Bon Scott on lead vocals. Seven months after the release of Highway to Hell (1979), Scott died of alcohol poisoning and English singer Brian Johnson was then recruited as their new frontman. Their first album with Johnson, Back in Black (1980), dedicated to Scott\\'s memory, became the second best-selling album of all time. Their eighth studio album, For Those About to Rock (1981), was their first album to reach number one on the Billboard 200. Rudd was fired partway through the Flick of the Switch sessions in 1983 and was replaced by Simon Wright, who was\\n\\nAC/DC are an Australian rock band formed in Sydney in 1973. Their music has been variously described as hard rock, blues rock and heavy metal, although the band calls it simply \"rock and roll\". They are cited as a formative influence on the new wave of British heavy metal bands. The band was inducted into the Rock and Roll Hall of Fame in 2003 and have sold over 200 million records worldwide, making them one of the best-selling artists of all time.\\n\\nUpon formation, Malcolm and Angus developed the band\\'s name after their sister Margaret pointed out the symbol \"AC/DC\" on the AC adapter of her sewing machine.[8] A.C./D.C. is an abbreviation for alternating current/direct current electricity. The brothers felt that this name symbolised the band\\'s raw energy and the power-driven performances of their music.[14] It is pronounced one letter at a time, though the band are colloquially known as Acca Dacca in Australia.[2][15] The AC/DC band name is stylised with a lightning bolt separating the AC from DC and has been used on all studio albums, except the international version of Dirty Deeds Done Dirt Cheap. Their logo was designed by American typographer Gerard Huerta in 1977 and first appeared on Let There Be Rock. Adam Behr of The Bulletin explained, \"[its] type font conveyed the sense of electricity implicit in their name.\\n\\nAC/DC\\'s influences include the Rolling Stones, Chuck Berry, Billy Thorpe, the Easybeats and Vanda & Young.[2][8][234] The impact of Australian pub rock on AC/DC was documented on ABC\\'s Long Way to the Top (2001).[235] Angus reflected on his playing style: \"A lot of it was nerves at first. It was George that told me if you get on stage and play guitar you want to let people know you are doing something. When I started in the band I was shy and had to push myself forward. [...] [Patrons] would be throwing beer cans and I thought \\'just keep moving\\' and that\\'s how it all started.\"[235] George had taught both Malcolm and Angus \"how to play guitar, and playing them classic rock and roll and blues records until that music was like blood in their veins.\"[9] According to Long Way to the Top\\'s writers, \"[t]he hardships of the Australian road would complete AC/DC\\'s training. [Scott] revelled in the lifestyle. Somehow he rose above all the substance abuse to become the ultimate rock and roll'}\u001B[0m\u001B[32;1m\u001B[1;3mAC/DC was founded by brothers Angus and Malcolm Young.\n",
      "\u001B[0m\n",
      "\n",
      "\u001B[1m> Finished chain.\u001B[0m\n",
      "AC/DC was founded by brothers Angus and Malcolm Young.\n",
      "\n"
     ]
    }
   ],
   "execution_count": 136
  },
  {
   "metadata": {
    "ExecuteTime": {
     "end_time": "2025-04-26T13:30:26.601605Z",
     "start_time": "2025-04-26T13:30:24.693668Z"
    }
   },
   "cell_type": "code",
   "source": [
    "res = agent_executor.invoke({\"input\": \"Which would you say is AC/DC's most popular song, from what you know estimate\"})\n",
    "print(res[\"output\"])\n"
   ],
   "id": "887bb60572457192",
   "outputs": [
    {
     "name": "stdout",
     "output_type": "stream",
     "text": [
      "\n",
      "\n",
      "\u001B[1m> Entering new AgentExecutor chain...\u001B[0m\n",
      "\u001B[32;1m\u001B[1;3m\n",
      "Invoking: `get_acdc_information_tool` with `{'query': 'AC/DC most popular song'}`\n",
      "\n",
      "\n",
      "\u001B[0m\u001B[36;1m\u001B[1;3m{'context': 'They sold over 1.3 million CDs in the US during 2007.[289] In 50 years of the band\\'s career, they have sold over 200 million albums worldwide,[290] and 84 million in the US, according to the Recording Industry Association of America (RIAA), which AC/DC the fourth best-selling band in US history and the eighth best-selling artist, selling more albums than Elton John and Mariah Carey.[291] The RIAA also certified Back in Black as 27× Platinum, for 27 million in US sales, which made it the fourth best-selling album of all time in the US.[292]\\n\\nAC/DC are an Australian rock band formed in Sydney in 1973. Their music has been variously described as hard rock, blues rock and heavy metal, although the band calls it simply \"rock and roll\". They are cited as a formative influence on the new wave of British heavy metal bands. The band was inducted into the Rock and Roll Hall of Fame in 2003 and have sold over 200 million records worldwide, making them one of the best-selling artists of all time.\\n\\nOn 29 March 1980, Malcolm offered Johnson a place in the band, much to the singer\\'s surprise.[85] Out of respect for Scott, the band wanted a vocalist who would not be an imitator. In addition to his distinctive voice, demeanour and love of classic soul and blues music, the group were impressed by Johnson\\'s engaging personality.[2][8] Johnson was officially announced as the lead singer of AC/DC on 1 April.[86] With Johnson, the group completed the songwriting previously began with Scott for Back in Black. Recording took place at Compass Point Studios in The Bahamas a few months after Scott\\'s death. Produced by Lange and recorded by Tony Platt, it became the second best-selling album of all time and a hard rock landmark. Its singles are \"Hells Bells\", \"You Shook Me All Night Long\", \"Rock and Roll Ain\\'t Noise Pollution\" and the title track. The album peaked at number one in the UK,[87] and number four in the US, where it spent 612 weeks on the Billboard 200 chart.[66] It also reached\\n\\nAC/DC were founded by brothers Angus (lead guitar) and Malcolm Young (rhythm guitar), with Colin Burgess (drums), Larry Van Kriedt (bass guitar) and Dave Evans (lead vocals). They underwent several line-up changes before releasing their debut Australasian-only album, High Voltage (1975). Membership stabilised after the release of Let There Be Rock (1977), with the Young brothers, Phil Rudd on drums, Cliff Williams on bass guitar and Bon Scott on lead vocals. Seven months after the release of Highway to Hell (1979), Scott died of alcohol poisoning and English singer Brian Johnson was then recruited as their new frontman. Their first album with Johnson, Back in Black (1980), dedicated to Scott\\'s memory, became the second best-selling album of all time. Their eighth studio album, For Those About to Rock (1981), was their first album to reach number one on the Billboard 200. Rudd was fired partway through the Flick of the Switch sessions in 1983 and was replaced by Simon Wright, who was'}\u001B[0m\u001B[32;1m\u001B[1;3mBased on the information I found, it seems \"You Shook Me All Night Long\" and \"Hells Bells\" are among AC/DC's most popular songs, as they are singles from the album \"Back in Black\", which is the second best-selling album of all time.\n",
      "\u001B[0m\n",
      "\n",
      "\u001B[1m> Finished chain.\u001B[0m\n",
      "Based on the information I found, it seems \"You Shook Me All Night Long\" and \"Hells Bells\" are among AC/DC's most popular songs, as they are singles from the album \"Back in Black\", which is the second best-selling album of all time.\n",
      "\n"
     ]
    }
   ],
   "execution_count": 137
  },
  {
   "metadata": {
    "ExecuteTime": {
     "end_time": "2025-04-26T13:47:33.213804Z",
     "start_time": "2025-04-26T13:47:33.209927Z"
    }
   },
   "cell_type": "code",
   "source": [
    "import shutil\n",
    "\n",
    "# Path where Chroma DB is persisted\n",
    "chroma_path = \"./chroma_db\"\n",
    "\n",
    "# Delete the whole folder and everything inside it\n",
    "shutil.rmtree(chroma_path, ignore_errors=True)\n",
    "\n",
    "print(f\"✅ Deleted {chroma_path}\")\n"
   ],
   "id": "44190a64bdd6e32e",
   "outputs": [
    {
     "name": "stdout",
     "output_type": "stream",
     "text": [
      "✅ Deleted ./chroma_db\n"
     ]
    }
   ],
   "execution_count": 142
  },
  {
   "metadata": {},
   "cell_type": "code",
   "outputs": [],
   "execution_count": null,
   "source": "",
   "id": "731617017443daf7"
  }
 ],
 "metadata": {
  "kernelspec": {
   "display_name": "Python 3",
   "language": "python",
   "name": "python3"
  },
  "language_info": {
   "codemirror_mode": {
    "name": "ipython",
    "version": 2
   },
   "file_extension": ".py",
   "mimetype": "text/x-python",
   "name": "python",
   "nbconvert_exporter": "python",
   "pygments_lexer": "ipython2",
   "version": "2.7.6"
  }
 },
 "nbformat": 4,
 "nbformat_minor": 5
}
